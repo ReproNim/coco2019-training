{
 "cells": [
  {
   "cell_type": "markdown",
   "metadata": {},
   "source": [
    "# P-hacking practical"
   ]
  },
  {
   "cell_type": "code",
   "execution_count": 4,
   "metadata": {},
   "outputs": [],
   "source": [
    "import pandas as pd\n",
    "import numpy as np\n",
    "# import statsmodels.discrete.discrete_model as sm\n",
    "import statsmodels.api as sm\n",
    "import scipy.stats as sst\n",
    "import matplotlib.pyplot as plt\n",
    "%matplotlib inline\n",
    "\n",
    "\"\"\"\n",
    "from statsmodels.formula.api import OLS\n",
    "from statsmodels.formula.api import logit\n",
    "from statsmodels.formula.api import MNLogit\n",
    "\"\"\";"
   ]
  },
  {
   "cell_type": "code",
   "execution_count": 6,
   "metadata": {
    "collapsed": true
   },
   "outputs": [],
   "source": []
  },
  {
   "cell_type": "code",
   "execution_count": 7,
   "metadata": {
    "collapsed": true
   },
   "outputs": [],
   "source": [
    "relative_path_filename = '../../data/phenotypes.aug.csv'"
   ]
  },
  {
   "cell_type": "code",
   "execution_count": 20,
   "metadata": {},
   "outputs": [],
   "source": [
    "# Load in the dataset, appending 'nd' to the list of possible na_values\n",
    "hie = pd.read_csv(relative_path_filename, na_values='nd')\n",
    "original_col_names = list(hie)\n",
    "hie.columns = ['X', 'SID', 'scanner', 'lphippvol', \n",
    "               'gender', 'age', 'hand', 'anx', 'myst']\n"
   ]
  },
  {
   "cell_type": "code",
   "execution_count": 22,
   "metadata": {},
   "outputs": [
    {
     "name": "stdout",
     "output_type": "stream",
     "text": [
      "[('X', 'X'), ('SubjID', 'SID'), ('ManufacturersModelName', 'scanner'), ('MRI_cort_vol.ctx.lh.parahippocampal', 'lphippvol'), ('Gender', 'gender'), ('Age_At_IMGExam', 'age'), ('FDH_23_Handedness_Prtcpnt', 'hand'), ('PHX_ANX_TOTAL', 'anx'), ('MYSTERY', 'myst')]\n"
     ]
    },
    {
     "data": {
      "text/plain": [
       "array(['SIGNA HDx', 'DISCOVERY MR750', 'TrioTim', 'Achieva'], dtype=object)"
      ]
     },
     "execution_count": 22,
     "metadata": {},
     "output_type": "execute_result"
    }
   ],
   "source": [
    "print([(curr, orig) for orig,curr in zip(list(hie), original_col_names)])\n",
    "hie['gender'].unique()\n",
    "hie['scanner'].unique()\n",
    "# hie['age'].unique()"
   ]
  },
  {
   "cell_type": "code",
   "execution_count": 12,
   "metadata": {},
   "outputs": [],
   "source": [
    "old_2_new_labels= {'SIGNA HDx': 'Signa', 'DISCOVERY MR750': 'Disco',\n",
    "                  'TrioTim': 'Trio', 'Achieva':'Achieva'}\n"
   ]
  },
  {
   "cell_type": "code",
   "execution_count": 14,
   "metadata": {},
   "outputs": [
    {
     "data": {
      "text/plain": [
       "array(['Signa', 'Disco', 'Trio', 'Achieva'], dtype=object)"
      ]
     },
     "execution_count": 14,
     "metadata": {},
     "output_type": "execute_result"
    }
   ],
   "source": [
    "# For human readability, lets map outcome labels to accepted terms\n",
    "hie['scanner'] = hie['scanner'].map(\n",
    "                                    old_2_new_labels, na_action='ignore')\n",
    "hie['scanner'].unique()"
   ]
  },
  {
   "cell_type": "markdown",
   "metadata": {},
   "source": [
    "## Plot the variables, check for nans or outliers"
   ]
  },
  {
   "cell_type": "code",
   "execution_count": 23,
   "metadata": {},
   "outputs": [
    {
     "name": "stdout",
     "output_type": "stream",
     "text": [
      "1000\n"
     ]
    },
    {
     "data": {
      "image/png": "[encoded data removed]",
      "text/plain": [
       "<matplotlib.figure.Figure at 0x7f9e38423518>"
      ]
     },
     "metadata": {},
     "output_type": "display_data"
    }
   ],
   "source": [
    "var_name = 'lphippvol' # \n",
    "\n",
    "histo = plt.hist([v for v in hie[var_name].values if ~np.isnan(v)])\n",
    "print(len(hie))"
   ]
  },
  {
   "cell_type": "code",
   "execution_count": 24,
   "metadata": {},
   "outputs": [],
   "source": [
    "N = len(hie) #take the first dimension (index dim)"
   ]
  },
  {
   "cell_type": "markdown",
   "metadata": {},
   "source": [
    "## We need to sample 30 subjects from the 1000"
   ]
  },
  {
   "cell_type": "code",
   "execution_count": 25,
   "metadata": {},
   "outputs": [
    {
     "data": {
      "text/plain": [
       "array([5, 8, 1, 2, 4])"
      ]
     },
     "execution_count": 25,
     "metadata": {},
     "output_type": "execute_result"
    }
   ],
   "source": [
    "# Could we use these ?\n",
    "# sst.multinomial?\n",
    "# sst.randint?\n",
    "unif_N = sst.randint(1,10)\n",
    "unif_N.rvs(size=(5,))\n",
    "# This does sampling with replacement"
   ]
  },
  {
   "cell_type": "code",
   "execution_count": 128,
   "metadata": {},
   "outputs": [
    {
     "name": "stdout",
     "output_type": "stream",
     "text": [
      "[991 138 514 783 804 124 810 176 170  89 249 886 541 556 424 742 959 935\n",
      " 356 758 430 827 724 637 555 309  61 629  67 889]\n"
     ]
    }
   ],
   "source": [
    "# np.random.randint(0,5+1, size=(3,))\n",
    "Nsmall = 30\n",
    "rows = np.random.permutation(np.arange(0,N))[:Nsmall]\n",
    "print(rows)\n",
    "r = slice(rows)"
   ]
  },
  {
   "cell_type": "code",
   "execution_count": 129,
   "metadata": {},
   "outputs": [
    {
     "data": {
      "text/html": [
       "<div>\n",
       "<table border=\"1\" class=\"dataframe\">\n",
       "  <thead>\n",
       "    <tr style=\"text-align: right;\">\n",
       "      <th></th>\n",
       "      <th>X</th>\n",
       "      <th>SID</th>\n",
       "      <th>scanner</th>\n",
       "      <th>lphippvol</th>\n",
       "      <th>gender</th>\n",
       "      <th>age</th>\n",
       "      <th>hand</th>\n",
       "      <th>anx</th>\n",
       "      <th>myst</th>\n",
       "    </tr>\n",
       "  </thead>\n",
       "  <tbody>\n",
       "    <tr>\n",
       "      <th>991</th>\n",
       "      <td>991</td>\n",
       "      <td>P1390</td>\n",
       "      <td>TrioTim</td>\n",
       "      <td>2192</td>\n",
       "      <td>F</td>\n",
       "      <td>5.00</td>\n",
       "      <td>Right</td>\n",
       "      <td>NaN</td>\n",
       "      <td>0.246402</td>\n",
       "    </tr>\n",
       "    <tr>\n",
       "      <th>138</th>\n",
       "      <td>138</td>\n",
       "      <td>P0206</td>\n",
       "      <td>SIGNA HDx</td>\n",
       "      <td>2583</td>\n",
       "      <td>M</td>\n",
       "      <td>18.50</td>\n",
       "      <td>Right</td>\n",
       "      <td>NaN</td>\n",
       "      <td>1.001062</td>\n",
       "    </tr>\n",
       "    <tr>\n",
       "      <th>514</th>\n",
       "      <td>514</td>\n",
       "      <td>P0706</td>\n",
       "      <td>TrioTim</td>\n",
       "      <td>2432</td>\n",
       "      <td>M</td>\n",
       "      <td>8.92</td>\n",
       "      <td>Right</td>\n",
       "      <td>NaN</td>\n",
       "      <td>6.640354</td>\n",
       "    </tr>\n",
       "    <tr>\n",
       "      <th>783</th>\n",
       "      <td>783</td>\n",
       "      <td>P1082</td>\n",
       "      <td>TrioTim</td>\n",
       "      <td>2613</td>\n",
       "      <td>M</td>\n",
       "      <td>3.75</td>\n",
       "      <td>Left</td>\n",
       "      <td>NaN</td>\n",
       "      <td>0.268222</td>\n",
       "    </tr>\n",
       "    <tr>\n",
       "      <th>804</th>\n",
       "      <td>804</td>\n",
       "      <td>P1108</td>\n",
       "      <td>TrioTim</td>\n",
       "      <td>2873</td>\n",
       "      <td>M</td>\n",
       "      <td>16.25</td>\n",
       "      <td>Right</td>\n",
       "      <td>NaN</td>\n",
       "      <td>2.043198</td>\n",
       "    </tr>\n",
       "  </tbody>\n",
       "</table>\n",
       "</div>"
      ],
      "text/plain": [
       "       X    SID    scanner  lphippvol gender    age   hand  anx      myst\n",
       "991  991  P1390    TrioTim       2192      F   5.00  Right  NaN  0.246402\n",
       "138  138  P0206  SIGNA HDx       2583      M  18.50  Right  NaN  1.001062\n",
       "514  514  P0706    TrioTim       2432      M   8.92  Right  NaN  6.640354\n",
       "783  783  P1082    TrioTim       2613      M   3.75   Left  NaN  0.268222\n",
       "804  804  P1108    TrioTim       2873      M  16.25  Right  NaN  2.043198"
      ]
     },
     "execution_count": 129,
     "metadata": {},
     "output_type": "execute_result"
    }
   ],
   "source": [
    "hie.iloc[rows][:5]\n",
    "#hie.index[rows]"
   ]
  },
  {
   "cell_type": "code",
   "execution_count": 130,
   "metadata": {},
   "outputs": [],
   "source": [
    "hie_small = hie.iloc[rows]"
   ]
  },
  {
   "cell_type": "code",
   "execution_count": 131,
   "metadata": {},
   "outputs": [
    {
     "name": "stdout",
     "output_type": "stream",
     "text": [
      "['X', 'SID', 'scanner', 'lphippvol', 'gender', 'age', 'hand', 'anx', 'myst']\n"
     ]
    }
   ],
   "source": [
    "print(list(hie))"
   ]
  },
  {
   "cell_type": "code",
   "execution_count": 132,
   "metadata": {},
   "outputs": [
    {
     "data": {
      "text/html": [
       "<table class=\"simpletable\">\n",
       "<caption>OLS Regression Results</caption>\n",
       "<tr>\n",
       "  <th>Dep. Variable:</th>        <td>lphippvol</td>    <th>  R-squared:         </th> <td>   0.278</td>\n",
       "</tr>\n",
       "<tr>\n",
       "  <th>Model:</th>                   <td>OLS</td>       <th>  Adj. R-squared:    </th> <td>   0.089</td>\n",
       "</tr>\n",
       "<tr>\n",
       "  <th>Method:</th>             <td>Least Squares</td>  <th>  F-statistic:       </th> <td>   1.473</td>\n",
       "</tr>\n",
       "<tr>\n",
       "  <th>Date:</th>             <td>Thu, 01 Nov 2018</td> <th>  Prob (F-statistic):</th>  <td> 0.231</td> \n",
       "</tr>\n",
       "<tr>\n",
       "  <th>Time:</th>                 <td>15:08:23</td>     <th>  Log-Likelihood:    </th> <td> -212.09</td>\n",
       "</tr>\n",
       "<tr>\n",
       "  <th>No. Observations:</th>      <td>    30</td>      <th>  AIC:               </th> <td>   438.2</td>\n",
       "</tr>\n",
       "<tr>\n",
       "  <th>Df Residuals:</th>          <td>    23</td>      <th>  BIC:               </th> <td>   448.0</td>\n",
       "</tr>\n",
       "<tr>\n",
       "  <th>Df Model:</th>              <td>     6</td>      <th>                     </th>     <td> </td>   \n",
       "</tr>\n",
       "<tr>\n",
       "  <th>Covariance Type:</th>      <td>nonrobust</td>    <th>                     </th>     <td> </td>   \n",
       "</tr>\n",
       "</table>\n",
       "<table class=\"simpletable\">\n",
       "<tr>\n",
       "               <td></td>                 <th>coef</th>     <th>std err</th>      <th>t</th>      <th>P>|t|</th>  <th>[0.025</th>    <th>0.975]</th>  \n",
       "</tr>\n",
       "<tr>\n",
       "  <th>Intercept</th>                  <td> 3077.5238</td> <td>  268.981</td> <td>   11.441</td> <td> 0.000</td> <td> 2521.094</td> <td> 3633.954</td>\n",
       "</tr>\n",
       "<tr>\n",
       "  <th>scanner[T.DISCOVERY MR750]</th> <td> -649.3264</td> <td>  299.500</td> <td>   -2.168</td> <td> 0.041</td> <td>-1268.889</td> <td>  -29.764</td>\n",
       "</tr>\n",
       "<tr>\n",
       "  <th>scanner[T.SIGNA HDx]</th>       <td> -430.4347</td> <td>  269.725</td> <td>   -1.596</td> <td> 0.124</td> <td> -988.403</td> <td>  127.534</td>\n",
       "</tr>\n",
       "<tr>\n",
       "  <th>scanner[T.TrioTim]</th>         <td> -421.2200</td> <td>  167.184</td> <td>   -2.520</td> <td> 0.019</td> <td> -767.066</td> <td>  -75.374</td>\n",
       "</tr>\n",
       "<tr>\n",
       "  <th>gender[T.M]</th>                <td>   95.6302</td> <td>  139.896</td> <td>    0.684</td> <td> 0.501</td> <td> -193.766</td> <td>  385.027</td>\n",
       "</tr>\n",
       "<tr>\n",
       "  <th>age</th>                        <td>   -6.5533</td> <td>   14.354</td> <td>   -0.457</td> <td> 0.652</td> <td>  -36.247</td> <td>   23.141</td>\n",
       "</tr>\n",
       "<tr>\n",
       "  <th>myst</th>                       <td>  -21.4405</td> <td>   27.777</td> <td>   -0.772</td> <td> 0.448</td> <td>  -78.902</td> <td>   36.021</td>\n",
       "</tr>\n",
       "</table>\n",
       "<table class=\"simpletable\">\n",
       "<tr>\n",
       "  <th>Omnibus:</th>       <td> 0.473</td> <th>  Durbin-Watson:     </th> <td>   1.872</td>\n",
       "</tr>\n",
       "<tr>\n",
       "  <th>Prob(Omnibus):</th> <td> 0.790</td> <th>  Jarque-Bera (JB):  </th> <td>   0.437</td>\n",
       "</tr>\n",
       "<tr>\n",
       "  <th>Skew:</th>          <td>-0.262</td> <th>  Prob(JB):          </th> <td>   0.804</td>\n",
       "</tr>\n",
       "<tr>\n",
       "  <th>Kurtosis:</th>      <td> 2.726</td> <th>  Cond. No.          </th> <td>    96.4</td>\n",
       "</tr>\n",
       "</table><br/><br/>Warnings:<br/>[1] Standard Errors assume that the covariance matrix of the errors is correctly specified."
      ],
      "text/plain": [
       "<class 'statsmodels.iolib.summary.Summary'>\n",
       "\"\"\"\n",
       "                            OLS Regression Results                            \n",
       "==============================================================================\n",
       "Dep. Variable:              lphippvol   R-squared:                       0.278\n",
       "Model:                            OLS   Adj. R-squared:                  0.089\n",
       "Method:                 Least Squares   F-statistic:                     1.473\n",
       "Date:                Thu, 01 Nov 2018   Prob (F-statistic):              0.231\n",
       "Time:                        15:08:23   Log-Likelihood:                -212.09\n",
       "No. Observations:                  30   AIC:                             438.2\n",
       "Df Residuals:                      23   BIC:                             448.0\n",
       "Df Model:                           6                                         \n",
       "Covariance Type:            nonrobust                                         \n",
       "==============================================================================================\n",
       "                                 coef    std err          t      P>|t|      [0.025      0.975]\n",
       "----------------------------------------------------------------------------------------------\n",
       "Intercept                   3077.5238    268.981     11.441      0.000    2521.094    3633.954\n",
       "scanner[T.DISCOVERY MR750]  -649.3264    299.500     -2.168      0.041   -1268.889     -29.764\n",
       "scanner[T.SIGNA HDx]        -430.4347    269.725     -1.596      0.124    -988.403     127.534\n",
       "scanner[T.TrioTim]          -421.2200    167.184     -2.520      0.019    -767.066     -75.374\n",
       "gender[T.M]                   95.6302    139.896      0.684      0.501    -193.766     385.027\n",
       "age                           -6.5533     14.354     -0.457      0.652     -36.247      23.141\n",
       "myst                         -21.4405     27.777     -0.772      0.448     -78.902      36.021\n",
       "==============================================================================\n",
       "Omnibus:                        0.473   Durbin-Watson:                   1.872\n",
       "Prob(Omnibus):                  0.790   Jarque-Bera (JB):                0.437\n",
       "Skew:                          -0.262   Prob(JB):                        0.804\n",
       "Kurtosis:                       2.726   Cond. No.                         96.4\n",
       "==============================================================================\n",
       "\n",
       "Warnings:\n",
       "[1] Standard Errors assume that the covariance matrix of the errors is correctly specified.\n",
       "\"\"\""
      ]
     },
     "execution_count": 132,
     "metadata": {},
     "output_type": "execute_result"
    }
   ],
   "source": [
    "# Run a multinomial logistic regression to predict all possible outcomes\n",
    "# Here, we'll set the two earliest measurements as predictors\n",
    "predictors = 'scanner + gender + age + myst ' # ''\n",
    "Y = 'lphippvol'\n",
    "\n",
    "formula = Y + ' ~ ' + predictors\n",
    "mn_model = sm.OLS.from_formula(formula, hie_small, missing='drop')\n",
    "mn_model.fit().summary()"
   ]
  },
  {
   "cell_type": "code",
   "execution_count": 133,
   "metadata": {},
   "outputs": [
    {
     "name": "stdout",
     "output_type": "stream",
     "text": [
      "let's p-hack more\n"
     ]
    }
   ],
   "source": [
    "alpha_level = .05\n",
    "if float(mn_model.fit().summary().tables[1].data[7][4]) < alpha_level:\n",
    "    print(\"let's publish fast\")\n",
    "else:\n",
    "    print(\"let's p-hack more\")\n"
   ]
  },
  {
   "cell_type": "code",
   "execution_count": 134,
   "metadata": {},
   "outputs": [],
   "source": [
    "import itertools\n",
    "models_covariables = [elt for elt in itertools.product([0,1],[0,1],[0,1])]"
   ]
  },
  {
   "cell_type": "code",
   "execution_count": 135,
   "metadata": {},
   "outputs": [],
   "source": [
    "cov_names = [' age ', ' hand ', ' gender ']\n",
    "predictors = []\n",
    "for cov in models_covariables:\n",
    "    s = ''\n",
    "    predictors.append(''.join([s + (cov_names[i] + '+')*cov[i] \n",
    "                                           for i in range(3)]))"
   ]
  },
  {
   "cell_type": "code",
   "execution_count": 136,
   "metadata": {},
   "outputs": [
    {
     "data": {
      "text/plain": [
       "['',\n",
       " ' gender +',\n",
       " ' hand +',\n",
       " ' hand + gender +',\n",
       " ' age +',\n",
       " ' age + gender +',\n",
       " ' age + hand +',\n",
       " ' age + hand + gender +']"
      ]
     },
     "execution_count": 136,
     "metadata": {},
     "output_type": "execute_result"
    }
   ],
   "source": [
    "predictors"
   ]
  },
  {
   "cell_type": "code",
   "execution_count": 137,
   "metadata": {},
   "outputs": [
    {
     "name": "stdout",
     "output_type": "stream",
     "text": [
      "lphippvol ~  scanner + myst   0.461\n",
      "lphippvol ~  gender + scanner + myst   0.445\n",
      "lphippvol ~  hand + scanner + myst   0.441\n",
      "lphippvol ~  hand + gender + scanner + myst   0.405\n",
      "lphippvol ~  age + scanner + myst   0.470\n",
      "lphippvol ~  age + gender + scanner + myst   0.448\n",
      "lphippvol ~  age + hand + scanner + myst   0.435\n",
      "lphippvol ~  age + hand + gender + scanner + myst   0.367\n"
     ]
    }
   ],
   "source": [
    "for p in predictors:\n",
    "    formula = Y + ' ~ ' + p + ' scanner + myst '\n",
    "    mn_model = sm.OLS.from_formula(formula, hie_small, missing='drop')\n",
    "    mn_model.fit().summary()\n",
    "    data = mn_model.fit().summary().tables[1].data\n",
    "    for d in data:\n",
    "        if d[0] == 'myst':\n",
    "            print(formula, d[4])"
   ]
  },
  {
   "cell_type": "code",
   "execution_count": null,
   "metadata": {},
   "outputs": [],
   "source": []
  },
  {
   "cell_type": "code",
   "execution_count": null,
   "metadata": {
    "collapsed": true
   },
   "outputs": [],
   "source": []
  }
 ],
 "metadata": {
  "kernelspec": {
   "display_name": "Python 3",
   "language": "python",
   "name": "python3"
  },
  "language_info": {
   "codemirror_mode": {
    "name": "ipython",
    "version": 3
   },
   "file_extension": ".py",
   "mimetype": "text/x-python",
   "name": "python",
   "nbconvert_exporter": "python",
   "pygments_lexer": "ipython3",
   "version": "3.5.1+"
  },
  "toc": {
   "nav_menu": {},
   "number_sections": true,
   "sideBar": true,
   "skip_h1_title": false,
   "toc_cell": false,
   "toc_position": {},
   "toc_section_display": "block",
   "toc_window_display": false
  }
 },
 "nbformat": 4,
 "nbformat_minor": 2
}
