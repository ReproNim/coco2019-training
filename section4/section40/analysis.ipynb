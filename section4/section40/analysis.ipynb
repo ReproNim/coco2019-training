{
 "cells": [
  {
   "cell_type": "markdown",
   "metadata": {},
   "source": [
    "# P-hacking practical"
   ]
  },
  {
   "cell_type": "code",
   "execution_count": 1,
   "metadata": {},
   "outputs": [],
   "source": [
    "import pandas as pd\n",
    "import numpy as np\n",
    "# import statsmodels.discrete.discrete_model as sm\n",
    "import statsmodels.api as sm\n",
    "import scipy.stats as sst\n",
    "import matplotlib.pyplot as plt\n",
    "%matplotlib inline\n",
    "\n",
    "\"\"\"\n",
    "from statsmodels.formula.api import OLS\n",
    "from statsmodels.formula.api import logit\n",
    "from statsmodels.formula.api import MNLogit\n",
    "\"\"\";"
   ]
  },
  {
   "cell_type": "code",
   "execution_count": null,
   "metadata": {
    "collapsed": true
   },
   "outputs": [],
   "source": []
  },
  {
   "cell_type": "code",
   "execution_count": 2,
   "metadata": {
    "collapsed": true
   },
   "outputs": [],
   "source": [
    "relative_path_filename = '../../data/phenotypes.aug.csv'"
   ]
  },
  {
   "cell_type": "code",
   "execution_count": 3,
   "metadata": {},
   "outputs": [],
   "source": [
    "# Load in the dataset, appending 'nd' to the list of possible na_values\n",
    "hie = pd.read_csv(relative_path_filename, na_values='nd')\n",
    "original_col_names = list(hie)\n",
    "hie.columns = ['X', 'SID', 'scanner', 'lphippvol', \n",
    "               'gender', 'age', 'hand', 'anx', 'myst']\n"
   ]
  },
  {
   "cell_type": "code",
   "execution_count": 4,
   "metadata": {},
   "outputs": [
    {
     "name": "stdout",
     "output_type": "stream",
     "text": [
      "[('X', 'X'), ('SubjID', 'SID'), ('ManufacturersModelName', 'scanner'), ('MRI_cort_vol.ctx.lh.parahippocampal', 'lphippvol'), ('Gender', 'gender'), ('Age_At_IMGExam', 'age'), ('FDH_23_Handedness_Prtcpnt', 'hand'), ('PHX_ANX_TOTAL', 'anx'), ('MYSTERY', 'myst')]\n"
     ]
    },
    {
     "data": {
      "text/plain": [
       "array(['SIGNA HDx', 'DISCOVERY MR750', 'TrioTim', 'Achieva'], dtype=object)"
      ]
     },
     "execution_count": 4,
     "metadata": {},
     "output_type": "execute_result"
    }
   ],
   "source": [
    "print([(curr, orig) for orig,curr in zip(list(hie), original_col_names)])\n",
    "hie['gender'].unique()\n",
    "hie['scanner'].unique()\n",
    "# hie['age'].unique()"
   ]
  },
  {
   "cell_type": "code",
   "execution_count": 5,
   "metadata": {},
   "outputs": [],
   "source": [
    "old_2_new_labels= {'SIGNA HDx': 'Signa', 'DISCOVERY MR750': 'Disco',\n",
    "                  'TrioTim': 'Trio', 'Achieva':'Achieva'}\n"
   ]
  },
  {
   "cell_type": "code",
   "execution_count": 6,
   "metadata": {},
   "outputs": [
    {
     "data": {
      "text/plain": [
       "array(['Signa', 'Disco', 'Trio', 'Achieva'], dtype=object)"
      ]
     },
     "execution_count": 6,
     "metadata": {},
     "output_type": "execute_result"
    }
   ],
   "source": [
    "# For human readability, lets map outcome labels to accepted terms\n",
    "hie['scanner'] = hie['scanner'].map(\n",
    "                                    old_2_new_labels, na_action='ignore')\n",
    "hie['scanner'].unique()"
   ]
  },
  {
   "cell_type": "markdown",
   "metadata": {},
   "source": [
    "## Plot the variables, check for nans or outliers"
   ]
  },
  {
   "cell_type": "code",
   "execution_count": 7,
   "metadata": {},
   "outputs": [
    {
     "name": "stdout",
     "output_type": "stream",
     "text": [
      "1000\n"
     ]
    },
    {
     "data": {
      "image/png": "[encoded data removed]",
      "text/plain": [
       "<matplotlib.figure.Figure at 0x7f91bcdcecf8>"
      ]
     },
     "metadata": {},
     "output_type": "display_data"
    }
   ],
   "source": [
    "var_name = 'lphippvol' # \n",
    "\n",
    "histo = plt.hist([v for v in hie[var_name].values if ~np.isnan(v)])\n",
    "print(len(hie))"
   ]
  },
  {
   "cell_type": "code",
   "execution_count": 8,
   "metadata": {},
   "outputs": [],
   "source": [
    "N = len(hie) #take the first dimension (index dim)"
   ]
  },
  {
   "cell_type": "markdown",
   "metadata": {},
   "source": [
    "## We need to sample 30 subjects from the 1000"
   ]
  },
  {
   "cell_type": "code",
   "execution_count": 9,
   "metadata": {},
   "outputs": [
    {
     "data": {
      "text/plain": [
       "array([2, 4, 8, 5, 1])"
      ]
     },
     "execution_count": 9,
     "metadata": {},
     "output_type": "execute_result"
    }
   ],
   "source": [
    "# Could we use these ?\n",
    "# sst.multinomial?\n",
    "# sst.randint?\n",
    "unif_N = sst.randint(1,10)\n",
    "unif_N.rvs(size=(5,))\n",
    "# This does sampling with replacement"
   ]
  },
  {
   "cell_type": "code",
   "execution_count": 10,
   "metadata": {},
   "outputs": [
    {
     "name": "stdout",
     "output_type": "stream",
     "text": [
      "[575 770 181 124 660 623 615 869 329 965 783 725 580  75 391 242 374 820\n",
      " 938 390 231 919 423 956 370 814 736 970  95 702]\n"
     ]
    }
   ],
   "source": [
    "# np.random.randint(0,5+1, size=(3,))\n",
    "Nsmall = 30\n",
    "rows = np.random.permutation(np.arange(0,N))[:Nsmall]\n",
    "print(rows)\n",
    "r = slice(rows)"
   ]
  },
  {
   "cell_type": "code",
   "execution_count": 11,
   "metadata": {},
   "outputs": [
    {
     "data": {
      "text/html": [
       "<div>\n",
       "<table border=\"1\" class=\"dataframe\">\n",
       "  <thead>\n",
       "    <tr style=\"text-align: right;\">\n",
       "      <th></th>\n",
       "      <th>X</th>\n",
       "      <th>SID</th>\n",
       "      <th>scanner</th>\n",
       "      <th>lphippvol</th>\n",
       "      <th>gender</th>\n",
       "      <th>age</th>\n",
       "      <th>hand</th>\n",
       "      <th>anx</th>\n",
       "      <th>myst</th>\n",
       "    </tr>\n",
       "  </thead>\n",
       "  <tbody>\n",
       "    <tr>\n",
       "      <th>575</th>\n",
       "      <td>575</td>\n",
       "      <td>P0787</td>\n",
       "      <td>Trio</td>\n",
       "      <td>2411</td>\n",
       "      <td>F</td>\n",
       "      <td>9.58</td>\n",
       "      <td>Right</td>\n",
       "      <td>NaN</td>\n",
       "      <td>1.627164</td>\n",
       "    </tr>\n",
       "    <tr>\n",
       "      <th>770</th>\n",
       "      <td>770</td>\n",
       "      <td>P1068</td>\n",
       "      <td>Disco</td>\n",
       "      <td>2653</td>\n",
       "      <td>M</td>\n",
       "      <td>NaN</td>\n",
       "      <td>Left</td>\n",
       "      <td>NaN</td>\n",
       "      <td>0.834255</td>\n",
       "    </tr>\n",
       "    <tr>\n",
       "      <th>181</th>\n",
       "      <td>181</td>\n",
       "      <td>P0262</td>\n",
       "      <td>Trio</td>\n",
       "      <td>2805</td>\n",
       "      <td>M</td>\n",
       "      <td>11.33</td>\n",
       "      <td>Right</td>\n",
       "      <td>NaN</td>\n",
       "      <td>2.987977</td>\n",
       "    </tr>\n",
       "    <tr>\n",
       "      <th>124</th>\n",
       "      <td>124</td>\n",
       "      <td>P0179</td>\n",
       "      <td>Signa</td>\n",
       "      <td>2271</td>\n",
       "      <td>M</td>\n",
       "      <td>5.42</td>\n",
       "      <td>Right</td>\n",
       "      <td>NaN</td>\n",
       "      <td>8.061507</td>\n",
       "    </tr>\n",
       "    <tr>\n",
       "      <th>660</th>\n",
       "      <td>660</td>\n",
       "      <td>P0917</td>\n",
       "      <td>Trio</td>\n",
       "      <td>2586</td>\n",
       "      <td>F</td>\n",
       "      <td>13.67</td>\n",
       "      <td>Right</td>\n",
       "      <td>0.64</td>\n",
       "      <td>1.078196</td>\n",
       "    </tr>\n",
       "  </tbody>\n",
       "</table>\n",
       "</div>"
      ],
      "text/plain": [
       "       X    SID scanner  lphippvol gender    age   hand   anx      myst\n",
       "575  575  P0787    Trio       2411      F   9.58  Right   NaN  1.627164\n",
       "770  770  P1068   Disco       2653      M    NaN   Left   NaN  0.834255\n",
       "181  181  P0262    Trio       2805      M  11.33  Right   NaN  2.987977\n",
       "124  124  P0179   Signa       2271      M   5.42  Right   NaN  8.061507\n",
       "660  660  P0917    Trio       2586      F  13.67  Right  0.64  1.078196"
      ]
     },
     "execution_count": 11,
     "metadata": {},
     "output_type": "execute_result"
    }
   ],
   "source": [
    "hie.iloc[rows][:5]\n",
    "#hie.index[rows]"
   ]
  },
  {
   "cell_type": "code",
   "execution_count": 12,
   "metadata": {},
   "outputs": [],
   "source": [
    "hie_small = hie.iloc[rows]"
   ]
  },
  {
   "cell_type": "code",
   "execution_count": 13,
   "metadata": {},
   "outputs": [
    {
     "name": "stdout",
     "output_type": "stream",
     "text": [
      "['X', 'SID', 'scanner', 'lphippvol', 'gender', 'age', 'hand', 'anx', 'myst']\n"
     ]
    }
   ],
   "source": [
    "print(list(hie))"
   ]
  },
  {
   "cell_type": "code",
   "execution_count": 14,
   "metadata": {},
   "outputs": [
    {
     "data": {
      "text/html": [
       "<table class=\"simpletable\">\n",
       "<caption>OLS Regression Results</caption>\n",
       "<tr>\n",
       "  <th>Dep. Variable:</th>        <td>lphippvol</td>    <th>  R-squared:         </th> <td>   0.175</td>\n",
       "</tr>\n",
       "<tr>\n",
       "  <th>Model:</th>                   <td>OLS</td>       <th>  Adj. R-squared:    </th> <td>  -0.005</td>\n",
       "</tr>\n",
       "<tr>\n",
       "  <th>Method:</th>             <td>Least Squares</td>  <th>  F-statistic:       </th> <td>  0.9748</td>\n",
       "</tr>\n",
       "<tr>\n",
       "  <th>Date:</th>             <td>Thu, 01 Nov 2018</td> <th>  Prob (F-statistic):</th>  <td> 0.454</td> \n",
       "</tr>\n",
       "<tr>\n",
       "  <th>Time:</th>                 <td>15:09:17</td>     <th>  Log-Likelihood:    </th> <td> -203.44</td>\n",
       "</tr>\n",
       "<tr>\n",
       "  <th>No. Observations:</th>      <td>    29</td>      <th>  AIC:               </th> <td>   418.9</td>\n",
       "</tr>\n",
       "<tr>\n",
       "  <th>Df Residuals:</th>          <td>    23</td>      <th>  BIC:               </th> <td>   427.1</td>\n",
       "</tr>\n",
       "<tr>\n",
       "  <th>Df Model:</th>              <td>     5</td>      <th>                     </th>     <td> </td>   \n",
       "</tr>\n",
       "<tr>\n",
       "  <th>Covariance Type:</th>      <td>nonrobust</td>    <th>                     </th>     <td> </td>   \n",
       "</tr>\n",
       "</table>\n",
       "<table class=\"simpletable\">\n",
       "<tr>\n",
       "          <td></td>            <th>coef</th>     <th>std err</th>      <th>t</th>      <th>P>|t|</th>  <th>[0.025</th>    <th>0.975]</th>  \n",
       "</tr>\n",
       "<tr>\n",
       "  <th>Intercept</th>        <td> 2977.6046</td> <td>  277.102</td> <td>   10.746</td> <td> 0.000</td> <td> 2404.375</td> <td> 3550.834</td>\n",
       "</tr>\n",
       "<tr>\n",
       "  <th>scanner[T.Disco]</th> <td>-5.849e-12</td> <td> 5.34e-13</td> <td>  -10.959</td> <td> 0.000</td> <td>-6.95e-12</td> <td>-4.74e-12</td>\n",
       "</tr>\n",
       "<tr>\n",
       "  <th>scanner[T.Signa]</th> <td> -315.5100</td> <td>  300.335</td> <td>   -1.051</td> <td> 0.304</td> <td> -936.800</td> <td>  305.780</td>\n",
       "</tr>\n",
       "<tr>\n",
       "  <th>scanner[T.Trio]</th>  <td> -313.9051</td> <td>  182.256</td> <td>   -1.722</td> <td> 0.098</td> <td> -690.931</td> <td>   63.120</td>\n",
       "</tr>\n",
       "<tr>\n",
       "  <th>gender[T.M]</th>      <td>   12.1377</td> <td>  127.803</td> <td>    0.095</td> <td> 0.925</td> <td> -252.244</td> <td>  276.519</td>\n",
       "</tr>\n",
       "<tr>\n",
       "  <th>age</th>              <td>   -4.9806</td> <td>   13.024</td> <td>   -0.382</td> <td> 0.706</td> <td>  -31.922</td> <td>   21.961</td>\n",
       "</tr>\n",
       "<tr>\n",
       "  <th>myst</th>             <td>   14.6592</td> <td>   46.493</td> <td>    0.315</td> <td> 0.755</td> <td>  -81.518</td> <td>  110.836</td>\n",
       "</tr>\n",
       "</table>\n",
       "<table class=\"simpletable\">\n",
       "<tr>\n",
       "  <th>Omnibus:</th>       <td> 5.038</td> <th>  Durbin-Watson:     </th> <td>   1.954</td>\n",
       "</tr>\n",
       "<tr>\n",
       "  <th>Prob(Omnibus):</th> <td> 0.081</td> <th>  Jarque-Bera (JB):  </th> <td>   1.979</td>\n",
       "</tr>\n",
       "<tr>\n",
       "  <th>Skew:</th>          <td> 0.256</td> <th>  Prob(JB):          </th> <td>   0.372</td>\n",
       "</tr>\n",
       "<tr>\n",
       "  <th>Kurtosis:</th>      <td> 1.827</td> <th>  Cond. No.          </th> <td>5.77e+17</td>\n",
       "</tr>\n",
       "</table><br/><br/>Warnings:<br/>[1] Standard Errors assume that the covariance matrix of the errors is correctly specified.<br/>[2] The smallest eigenvalue is 1.48e-32. This might indicate that there are<br/>strong multicollinearity problems or that the design matrix is singular."
      ],
      "text/plain": [
       "<class 'statsmodels.iolib.summary.Summary'>\n",
       "\"\"\"\n",
       "                            OLS Regression Results                            \n",
       "==============================================================================\n",
       "Dep. Variable:              lphippvol   R-squared:                       0.175\n",
       "Model:                            OLS   Adj. R-squared:                 -0.005\n",
       "Method:                 Least Squares   F-statistic:                    0.9748\n",
       "Date:                Thu, 01 Nov 2018   Prob (F-statistic):              0.454\n",
       "Time:                        15:09:17   Log-Likelihood:                -203.44\n",
       "No. Observations:                  29   AIC:                             418.9\n",
       "Df Residuals:                      23   BIC:                             427.1\n",
       "Df Model:                           5                                         \n",
       "Covariance Type:            nonrobust                                         \n",
       "====================================================================================\n",
       "                       coef    std err          t      P>|t|      [0.025      0.975]\n",
       "------------------------------------------------------------------------------------\n",
       "Intercept         2977.6046    277.102     10.746      0.000    2404.375    3550.834\n",
       "scanner[T.Disco] -5.849e-12   5.34e-13    -10.959      0.000   -6.95e-12   -4.74e-12\n",
       "scanner[T.Signa]  -315.5100    300.335     -1.051      0.304    -936.800     305.780\n",
       "scanner[T.Trio]   -313.9051    182.256     -1.722      0.098    -690.931      63.120\n",
       "gender[T.M]         12.1377    127.803      0.095      0.925    -252.244     276.519\n",
       "age                 -4.9806     13.024     -0.382      0.706     -31.922      21.961\n",
       "myst                14.6592     46.493      0.315      0.755     -81.518     110.836\n",
       "==============================================================================\n",
       "Omnibus:                        5.038   Durbin-Watson:                   1.954\n",
       "Prob(Omnibus):                  0.081   Jarque-Bera (JB):                1.979\n",
       "Skew:                           0.256   Prob(JB):                        0.372\n",
       "Kurtosis:                       1.827   Cond. No.                     5.77e+17\n",
       "==============================================================================\n",
       "\n",
       "Warnings:\n",
       "[1] Standard Errors assume that the covariance matrix of the errors is correctly specified.\n",
       "[2] The smallest eigenvalue is 1.48e-32. This might indicate that there are\n",
       "strong multicollinearity problems or that the design matrix is singular.\n",
       "\"\"\""
      ]
     },
     "execution_count": 14,
     "metadata": {},
     "output_type": "execute_result"
    }
   ],
   "source": [
    "# Run a multinomial logistic regression to predict all possible outcomes\n",
    "# Here, we'll set the two earliest measurements as predictors\n",
    "predictors = 'scanner + gender + age + myst ' # ''\n",
    "Y = 'lphippvol'\n",
    "\n",
    "formula = Y + ' ~ ' + predictors\n",
    "mn_model = sm.OLS.from_formula(formula, hie_small, missing='drop')\n",
    "mn_model.fit().summary()"
   ]
  },
  {
   "cell_type": "code",
   "execution_count": 15,
   "metadata": {},
   "outputs": [
    {
     "name": "stdout",
     "output_type": "stream",
     "text": [
      "let's p-hack more\n"
     ]
    }
   ],
   "source": [
    "alpha_level = .05\n",
    "if float(mn_model.fit().summary().tables[1].data[7][4]) < alpha_level:\n",
    "    print(\"let's publish fast\")\n",
    "else:\n",
    "    print(\"let's p-hack more\")\n"
   ]
  },
  {
   "cell_type": "code",
   "execution_count": 16,
   "metadata": {},
   "outputs": [],
   "source": [
    "import itertools\n",
    "models_covariables = [elt for elt in itertools.product([0,1],[0,1],[0,1])]"
   ]
  },
  {
   "cell_type": "code",
   "execution_count": 17,
   "metadata": {},
   "outputs": [],
   "source": [
    "cov_names = [' age ', ' hand ', ' gender ']\n",
    "predictors = []\n",
    "for cov in models_covariables:\n",
    "    s = ''\n",
    "    predictors.append(''.join([s + (cov_names[i] + '+')*cov[i] \n",
    "                                           for i in range(3)]))"
   ]
  },
  {
   "cell_type": "code",
   "execution_count": 18,
   "metadata": {},
   "outputs": [
    {
     "data": {
      "text/plain": [
       "['',\n",
       " ' gender +',\n",
       " ' hand +',\n",
       " ' hand + gender +',\n",
       " ' age +',\n",
       " ' age + gender +',\n",
       " ' age + hand +',\n",
       " ' age + hand + gender +']"
      ]
     },
     "execution_count": 18,
     "metadata": {},
     "output_type": "execute_result"
    }
   ],
   "source": [
    "predictors"
   ]
  },
  {
   "cell_type": "code",
   "execution_count": 19,
   "metadata": {},
   "outputs": [
    {
     "name": "stdout",
     "output_type": "stream",
     "text": [
      "lphippvol ~  scanner + myst   0.653\n",
      "lphippvol ~  gender + scanner + myst   0.686\n",
      "lphippvol ~  hand + scanner + myst   0.139\n",
      "lphippvol ~  hand + gender + scanner + myst   0.046\n",
      "lphippvol ~  age + scanner + myst   0.706\n",
      "lphippvol ~  age + gender + scanner + myst   0.755\n",
      "lphippvol ~  age + hand + scanner + myst   0.169\n",
      "lphippvol ~  age + hand + gender + scanner + myst   0.063\n"
     ]
    }
   ],
   "source": [
    "for p in predictors:\n",
    "    formula = Y + ' ~ ' + p + ' scanner + myst '\n",
    "    mn_model = sm.OLS.from_formula(formula, hie_small, missing='drop')\n",
    "    mn_model.fit().summary()\n",
    "    data = mn_model.fit().summary().tables[1].data\n",
    "    for d in data:\n",
    "        if d[0] == 'myst':\n",
    "            print(formula, d[4])"
   ]
  },
  {
   "cell_type": "code",
   "execution_count": null,
   "metadata": {},
   "outputs": [],
   "source": []
  },
  {
   "cell_type": "code",
   "execution_count": null,
   "metadata": {
    "collapsed": true
   },
   "outputs": [],
   "source": []
  }
 ],
 "metadata": {
  "kernelspec": {
   "display_name": "Python 3",
   "language": "python",
   "name": "python3"
  },
  "language_info": {
   "codemirror_mode": {
    "name": "ipython",
    "version": 3
   },
   "file_extension": ".py",
   "mimetype": "text/x-python",
   "name": "python",
   "nbconvert_exporter": "python",
   "pygments_lexer": "ipython3",
   "version": "3.5.1+"
  },
  "toc": {
   "nav_menu": {},
   "number_sections": true,
   "sideBar": true,
   "skip_h1_title": false,
   "toc_cell": false,
   "toc_position": {},
   "toc_section_display": "block",
   "toc_window_display": false
  }
 },
 "nbformat": 4,
 "nbformat_minor": 2
}
