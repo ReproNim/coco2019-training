{
 "cells": [
  {
   "cell_type": "code",
   "execution_count": 1,
   "metadata": {
    "collapsed": true
   },
   "outputs": [],
   "source": [
    "from __future__ import print_function, division\n",
    "import pandas as pd\n",
    "import numpy as np\n",
    "import re\n",
    "import matplotlib.pyplot as plt\n",
    "import os.path as osp\n",
    "%matplotlib inline"
   ]
  },
  {
   "cell_type": "code",
   "execution_count": 2,
   "metadata": {
    "collapsed": true
   },
   "outputs": [],
   "source": [
    "# get \n",
    "data_dir = osp.join(osp.dirname(osp.dirname(osp.abspath('.'))), 'data')\n",
    "data_file = osp.join(data_dir, 'phenotypes.aug.csv')"
   ]
  },
  {
   "cell_type": "code",
   "execution_count": 3,
   "metadata": {
    "collapsed": true
   },
   "outputs": [],
   "source": [
    "df = pd.read_csv(data_file)\n",
    "\n",
    "# change the names of the variables ! \n",
    "new2old_names = {\n",
    "             'X':'X',\n",
    "             'subj_id':'SubjID',\n",
    "             'age':'Age_At_IMGExam', \n",
    "             'site':'ManufacturersModelName', \n",
    "             'gender':'Gender', \n",
    "             'hand':'FDH_23_Handedness_Prtcpnt',\n",
    "             'l_hippo': 'MRI_cort_vol.ctx.lh.parahippocampal',\n",
    "             'anxiety':'PHX_ANX_TOTAL',\n",
    "             'mystery':'MYSTERY'}\n",
    "\n",
    "old2new_names = {val:key for (key,val) in new2old_names.items()}\n",
    "df = df.rename(columns=old2new_names)\n"
   ]
  },
  {
   "cell_type": "code",
   "execution_count": 4,
   "metadata": {},
   "outputs": [
    {
     "name": "stdout",
     "output_type": "stream",
     "text": [
      "df.isnull().any(): X          False\n",
      "subj_id    False\n",
      "site       False\n",
      "l_hippo    False\n",
      "gender     False\n",
      "age         True\n",
      "hand        True\n",
      "anxiety     True\n",
      "mystery    False\n",
      "dtype: bool\n"
     ]
    }
   ],
   "source": [
    "# Which variables have null values ?\n",
    "print('df.isnull().any():',df.isnull().any())"
   ]
  },
  {
   "cell_type": "code",
   "execution_count": 5,
   "metadata": {},
   "outputs": [
    {
     "name": "stdout",
     "output_type": "stream",
     "text": [
      "std of age, std of new variable 4.93992842336 5.178580209\n",
      "mean and std of the new variable -12.9107853065 5.178580209\n",
      "we have correlated variables: -0.967808388824\n"
     ]
    }
   ],
   "source": [
    "reduce_noise_by = 4\n",
    "\n",
    "to_regress_name = 'l_hippo'\n",
    "regressors_names = ['age','site','gender','mystery']\n",
    "df = df[regressors_names + [to_regress_name]]\n",
    "\n",
    "# initialize a new variable\n",
    "new_variable = df['age']\n",
    "mask = ~np.isnan( np.asarray(new_variable) )\n",
    "\n",
    "# make it a bit different\n",
    "new_variable = -new_variable + np.random.normal(0, new_variable.std()/reduce_noise_by, \n",
    "                                                        size=new_variable.shape)\n",
    "# add it to the dataframe\n",
    "df['new_variable'] = new_variable\n",
    "\n",
    "# some simple descriptive statistics\n",
    "print(\"std of age, std of new variable\", np.std(df['age'][mask]), \n",
    "                                          np.std(new_variable[mask]))\n",
    "print(\"mean and std of the new variable\", np.mean(new_variable), np.std(new_variable))\n",
    "print(\"we have correlated variables:\", \n",
    "          np.corrcoef(np.asarray(new_variable[mask]), np.asarray(df['age'][mask]))[0,1])"
   ]
  },
  {
   "cell_type": "code",
   "execution_count": 6,
   "metadata": {},
   "outputs": [
    {
     "name": "stdout",
     "output_type": "stream",
     "text": [
      "dataset size and columns (997, 6) \n",
      " Index(['age', 'site', 'gender', 'mystery', 'l_hippo', 'new_variable'], dtype='object')\n"
     ]
    }
   ],
   "source": [
    "# drop the non a numerical values \n",
    "# see https://chrisalbon.com/python/data_wrangling/pandas_missing_data/\n",
    "\n",
    "df = df.dropna()\n",
    "print(\"dataset size and columns\", df.shape, '\\n', df.keys())"
   ]
  },
  {
   "cell_type": "code",
   "execution_count": 7,
   "metadata": {},
   "outputs": [],
   "source": [
    "import patsy as pat\n",
    "import statsmodels.formula.api as smf"
   ]
  },
  {
   "cell_type": "code",
   "execution_count": 8,
   "metadata": {
    "collapsed": true
   },
   "outputs": [],
   "source": [
    "to_regress_name = 'l_hippo'\n",
    "regressors_names = ['age','site','gender', 'new_variable', 'mystery']\n",
    "all_variables = [to_regress_name] + regressors_names\n",
    "#regressors_vars = [df[names['age']], df[names['site']], df[names['gender']]]\n",
    "#for k in df.keys() if k not in {'X', to_regress,  'SubjID', 'ManufacturersModelName'}]"
   ]
  },
  {
   "cell_type": "code",
   "execution_count": 9,
   "metadata": {},
   "outputs": [
    {
     "data": {
      "text/plain": [
       "(50, 6)"
      ]
     },
     "execution_count": 9,
     "metadata": {},
     "output_type": "execute_result"
    }
   ],
   "source": [
    "rows_len = df.shape[0]\n",
    "sample_n = 50\n",
    "assert sample_n <= rows_len\n",
    "# sample 50 subjects \n",
    "\n",
    "rows = np.random.randint(0,rows_len, size=(sample_n,))\n",
    "rows.sort()\n",
    "# print(rows)\n",
    "df_reduced = df.iloc[rows]\n",
    "df_reduced.shape"
   ]
  },
  {
   "cell_type": "code",
   "execution_count": 10,
   "metadata": {},
   "outputs": [
    {
     "name": "stdout",
     "output_type": "stream",
     "text": [
      "l_hippo ~ \n",
      "\tage+ \n",
      "\tsite+ \n",
      "\tgender+ \n",
      "\tnew_variable+ \n",
      "\tmystery\n"
     ]
    }
   ],
   "source": [
    "formula = to_regress_name + ' ~ \\n\\t' + '+ \\n\\t'.join(regressors_names)\n",
    "print(formula)"
   ]
  },
  {
   "cell_type": "code",
   "execution_count": 11,
   "metadata": {
    "collapsed": true
   },
   "outputs": [],
   "source": [
    "#pat.dmatrices??"
   ]
  },
  {
   "cell_type": "code",
   "execution_count": 12,
   "metadata": {
    "collapsed": true
   },
   "outputs": [],
   "source": [
    "mod = smf.ols(formula=formula, data=df_reduced)\n",
    "#y, X = pat.dmatrices(formula, data=df, return_type='matrix')"
   ]
  },
  {
   "cell_type": "code",
   "execution_count": 13,
   "metadata": {
    "collapsed": true
   },
   "outputs": [],
   "source": [
    "res = mod.fit()"
   ]
  },
  {
   "cell_type": "code",
   "execution_count": 14,
   "metadata": {},
   "outputs": [],
   "source": [
    "# print(res.summary());"
   ]
  },
  {
   "cell_type": "code",
   "execution_count": 15,
   "metadata": {},
   "outputs": [
    {
     "data": {
      "text/plain": [
       "0.3751123446060034"
      ]
     },
     "execution_count": 15,
     "metadata": {},
     "output_type": "execute_result"
    }
   ],
   "source": [
    "res.pvalues['age']"
   ]
  },
  {
   "cell_type": "code",
   "execution_count": 16,
   "metadata": {},
   "outputs": [
    {
     "name": "stdout",
     "output_type": "stream",
     "text": [
      "l_hippo ~ \n",
      "\tage+ \n",
      "\tsite+ \n",
      "\tgender\n"
     ]
    },
    {
     "data": {
      "text/plain": [
       "0.091036539845115394"
      ]
     },
     "execution_count": 16,
     "metadata": {},
     "output_type": "execute_result"
    }
   ],
   "source": [
    "to_regress_name = 'l_hippo'\n",
    "regressors_names = ['age','site','gender']\n",
    "all_variables = [to_regress_name] + regressors_names\n",
    "\n",
    "formula = to_regress_name + ' ~ \\n\\t' + '+ \\n\\t'.join(regressors_names)\n",
    "print(formula)\n",
    "\n",
    "df_reduced = df_reduced[all_variables]\n",
    "mod = smf.ols(formula=formula, data=df_reduced)\n",
    "res = mod.fit()\n",
    "res.pvalues['age']"
   ]
  },
  {
   "cell_type": "code",
   "execution_count": null,
   "metadata": {
    "collapsed": true
   },
   "outputs": [],
   "source": []
  },
  {
   "cell_type": "code",
   "execution_count": null,
   "metadata": {
    "collapsed": true
   },
   "outputs": [],
   "source": []
  }
 ],
 "metadata": {
  "kernelspec": {
   "display_name": "Python 3",
   "language": "python",
   "name": "python3"
  },
  "language_info": {
   "codemirror_mode": {
    "name": "ipython",
    "version": 3
   },
   "file_extension": ".py",
   "mimetype": "text/x-python",
   "name": "python",
   "nbconvert_exporter": "python",
   "pygments_lexer": "ipython3",
   "version": "3.5.1+"
  },
  "toc": {
   "nav_menu": {},
   "number_sections": true,
   "sideBar": true,
   "skip_h1_title": false,
   "toc_cell": false,
   "toc_position": {},
   "toc_section_display": "block",
   "toc_window_display": false
  }
 },
 "nbformat": 4,
 "nbformat_minor": 1
}
